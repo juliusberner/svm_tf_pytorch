{
 "cells": [
  {
   "cell_type": "code",
   "execution_count": 1,
   "metadata": {},
   "outputs": [],
   "source": [
    "# default_exp svm_utils"
   ]
  },
  {
   "cell_type": "code",
   "execution_count": 6,
   "metadata": {},
   "outputs": [],
   "source": [
    "# export \n",
    "from matplotlib import pyplot as plt\n",
    "from matplotlib.colors import ListedColormap\n",
    "import numpy as np\n",
    "\n",
    "\n",
    "def get_line(W, b, x):\n",
    "    return (-W[0]*x+b)/W[1]\n",
    "\n",
    "def plot(X, Y, W=None, b=None):\n",
    "    x1_min, x1_max = X[:, 0].min() - .5, X[:, 0].max() + .5\n",
    "    x2_min, x2_max = X[:, 1].min() - .5, X[:, 1].max() + .5\n",
    "    x1 = np.arange(x1_min, x1_max, .02)\n",
    "    xx1, xx2 = np.meshgrid(x1, np.arange(x2_min, x2_max, .02))\n",
    "    if W is not None and b is not None:\n",
    "        decision = np.c_[xx1.ravel(), xx2.ravel()] @ W + b\n",
    "        plt.contourf(xx1, xx2, decision.reshape(xx1.shape), cmap=plt.cm.RdBu, alpha=.8)\n",
    "        plt.colorbar()\n",
    "        for intercept in [-1,0,1]:\n",
    "            plt.plot(x1, get_line(W, b + intercept, x1), c='black')\n",
    "    cm_bright = ListedColormap(['#FF0000', '#0000FF'])\n",
    "    plt.scatter(X[:,0],X[:,1], c=Y.ravel(), cmap=cm_bright)\n",
    "    plt.xlim(x1_min, x1_max)\n",
    "    plt.ylim(x2_min, x2_max)\n",
    "    plt.show()"
   ]
  },
  {
   "cell_type": "code",
   "execution_count": null,
   "metadata": {},
   "outputs": [],
   "source": []
  }
 ],
 "metadata": {
  "kernelspec": {
   "display_name": "Python 3",
   "language": "python",
   "name": "python3"
  },
  "language_info": {
   "codemirror_mode": {
    "name": "ipython",
    "version": 3
   },
   "file_extension": ".py",
   "mimetype": "text/x-python",
   "name": "python",
   "nbconvert_exporter": "python",
   "pygments_lexer": "ipython3",
   "version": "3.7.3"
  }
 },
 "nbformat": 4,
 "nbformat_minor": 4
}
